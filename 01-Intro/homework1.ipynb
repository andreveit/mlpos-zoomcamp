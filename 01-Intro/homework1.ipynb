{
 "cells": [
  {
   "cell_type": "markdown",
   "id": "d0680ffa-afcb-42d1-9082-91ef7f48e153",
   "metadata": {},
   "source": [
    "# MLOps Zoomcamp - Intro\n",
    "\n",
    "Kickoff MLOps Zoomcamp course.\n",
    "\n",
    "First Homework tasks https://github.com/DataTalksClub/mlops-zoomcamp/blob/main/01-intro/homework.md "
   ]
  },
  {
   "cell_type": "code",
   "execution_count": 1,
   "id": "cb6ef6ec-0d90-4608-95f3-65d73afafdc5",
   "metadata": {},
   "outputs": [],
   "source": [
    "import pandas as pd\n",
    "import matplotlib.pyplot as plt\n",
    "import seaborn as sns\n",
    "\n",
    "from sklearn.feature_extraction import DictVectorizer\n",
    "from sklearn.linear_model import LinearRegression, Lasso, Ridge\n",
    "from sklearn.metrics import mean_squared_error\n",
    "\n",
    "import pickle"
   ]
  },
  {
   "cell_type": "markdown",
   "id": "cb621198-4a52-449d-8f56-2a596a62696c",
   "metadata": {
    "tags": []
   },
   "source": [
    "<br>\n",
    "\n",
    "<br>\n",
    "\n",
    "# Homework\n",
    "The goal of this homework is to train a simple model for predicting the duration of a ride - similar to what we did in this module."
   ]
  },
  {
   "cell_type": "markdown",
   "id": "4cc89476-7d51-4628-8a2b-38b3e190a9c1",
   "metadata": {},
   "source": [
    "\n",
    "## Q1. Downloading the data\n",
    "We'll use the same NYC taxi dataset, but instead of \"Green Taxi Trip Records\", we'll use \"For-Hire Vehicle Trip Records\".\n",
    "\n",
    "Download the data for January and February 2021.\n",
    "\n",
    "Note that you need \"For-Hire Vehicle Trip Records\", not \"High Volume For-Hire Vehicle Trip Records\".\n",
    "\n",
    "Read the data for January. How many records are there?"
   ]
  },
  {
   "cell_type": "code",
   "execution_count": 2,
   "id": "e80d84c5-ebdb-40a5-bbcd-2eec48e661c7",
   "metadata": {},
   "outputs": [],
   "source": [
    "df = pd.read_parquet('https://nyc-tlc.s3.amazonaws.com/trip+data/fhv_tripdata_2021-01.parquet')"
   ]
  },
  {
   "cell_type": "code",
   "execution_count": 3,
   "id": "cef41126-62fa-4e11-8b34-c02df0f0637f",
   "metadata": {},
   "outputs": [
    {
     "name": "stdout",
     "output_type": "stream",
     "text": [
      "Total number of records =  1154112\n"
     ]
    }
   ],
   "source": [
    "print('Total number of records = ',df.shape[0])"
   ]
  },
  {
   "cell_type": "markdown",
   "id": "b9e6eb7f-bdf3-427b-9931-52accc686dff",
   "metadata": {},
   "source": [
    "<br>\n",
    "\n",
    "<br>\n",
    "\n",
    "## Q2. Computing duration\n",
    "\n",
    "Now let's compute the duration variable. It should contain the duration of a ride in minutes.\n",
    "\n",
    "What's the average trip duration in january?"
   ]
  },
  {
   "cell_type": "code",
   "execution_count": 4,
   "id": "41512658-65d5-4f9d-90fa-ffa25e974979",
   "metadata": {},
   "outputs": [],
   "source": [
    "df['ride_duration'] = df.dropOff_datetime - df.pickup_datetime\n",
    "df.ride_duration = df.ride_duration.apply(lambda x: x.total_seconds() / 60)"
   ]
  },
  {
   "cell_type": "code",
   "execution_count": 5,
   "id": "15588c23-2f8f-4bb2-8135-ac38e1f8106c",
   "metadata": {},
   "outputs": [
    {
     "name": "stdout",
     "output_type": "stream",
     "text": [
      "Average ride duration =  19.17 seconds\n"
     ]
    }
   ],
   "source": [
    "print('Average ride duration = ', round(df.ride_duration.mean(),2),'seconds')"
   ]
  },
  {
   "cell_type": "markdown",
   "id": "70ad6920-e5c7-4329-9743-ee56c2579947",
   "metadata": {},
   "source": [
    "<br>\n",
    "\n",
    "<br>\n",
    "\n",
    "## Data preparation\n",
    "Check the distribution of the duration variable. There are some outliers.\n",
    "\n",
    "Let's remove them and keep only the records where the duration was between 1 and 60 minutes (inclusive).\n",
    "\n",
    "How many records did you drop?"
   ]
  },
  {
   "cell_type": "code",
   "execution_count": 6,
   "id": "b9a83c0d-89a7-4cd4-883c-7d50f74729ab",
   "metadata": {},
   "outputs": [],
   "source": [
    "df = df[(df.ride_duration >= 1) & (df.ride_duration<= 60)]"
   ]
  },
  {
   "cell_type": "code",
   "execution_count": 51,
   "id": "265446b4-e586-4b04-b657-3d9db18a8a19",
   "metadata": {},
   "outputs": [
    {
     "data": {
      "text/plain": [
       "<AxesSubplot:xlabel='ride_duration', ylabel='Count'>"
      ]
     },
     "execution_count": 51,
     "metadata": {},
     "output_type": "execute_result"
    },
    {
     "data": {
      "image/png": "[encoded data removed]",
      "text/plain": [
       "<Figure size 432x288 with 1 Axes>"
      ]
     },
     "metadata": {
      "needs_background": "light"
     },
     "output_type": "display_data"
    }
   ],
   "source": [
    "sns.histplot(df.ride_duration)"
   ]
  },
  {
   "cell_type": "code",
   "execution_count": 8,
   "id": "4621d9bd-aade-43d5-8a80-62b32ea02448",
   "metadata": {},
   "outputs": [
    {
     "name": "stdout",
     "output_type": "stream",
     "text": [
      "Number of records droped = 44286\n"
     ]
    }
   ],
   "source": [
    "print(f'Number of records droped = {1154112 - df.shape[0]}')"
   ]
  },
  {
   "cell_type": "markdown",
   "id": "402a0baa-086e-466b-ae4d-a820bffb1824",
   "metadata": {},
   "source": [
    "<br>\n",
    "\n",
    "<br>\n",
    "\n",
    "## Q3. Missing values\n",
    "The features we'll use for our model are the pickup and dropoff location IDs.\n",
    "\n",
    "But they have a lot of missing values there. Let's replace them with \"-1\".\n",
    "\n",
    "What's the fractions of missing values for the pickup location ID? I.e. fraction of \"-1\"s after you filled the NAs."
   ]
  },
  {
   "cell_type": "code",
   "execution_count": 9,
   "id": "dd42fa8a-3ff9-49de-bbfe-e2c9511dfe89",
   "metadata": {},
   "outputs": [],
   "source": [
    "df[['PUlocationID', 'DOlocationID']] = df[['PUlocationID', 'DOlocationID']].fillna(value = -1)"
   ]
  },
  {
   "cell_type": "code",
   "execution_count": 10,
   "id": "6d526532-e1c5-4ce6-8534-b4b80278ec8a",
   "metadata": {},
   "outputs": [
    {
     "name": "stdout",
     "output_type": "stream",
     "text": [
      "Fractions of missing values for the pickup location ID = 83.53 %\n"
     ]
    }
   ],
   "source": [
    "pct_missing = df[['PUlocationID']].value_counts(normalize=True).iloc[0]\n",
    "print(f'Fractions of missing values for the pickup location ID = {round(pct_missing*100,2)} %')"
   ]
  },
  {
   "cell_type": "markdown",
   "id": "4200c443-3ac5-4869-96a2-ea253491e6e0",
   "metadata": {},
   "source": [
    "<br>\n",
    "\n",
    "<br>\n",
    "\n",
    "## Q4. One-hot encoding\n",
    "Let's apply one-hot encoding to the pickup and dropoff location IDs. We'll use only these two features for our model.\n",
    "\n",
    "Turn the dataframe into a list of dictionaries\n",
    "Fit a dictionary vectorizer\n",
    "Get a feature matrix from it\n",
    "What's the dimensionality of this matrix? (The number of columns)."
   ]
  },
  {
   "cell_type": "code",
   "execution_count": 11,
   "id": "ec439a56-c885-453b-b56e-327514c327ce",
   "metadata": {},
   "outputs": [
    {
     "name": "stdout",
     "output_type": "stream",
     "text": [
      "Matrix dimensionality =  525\n"
     ]
    }
   ],
   "source": [
    "categorical = ['PUlocationID', 'DOlocationID']\n",
    "df[categorical] = df[categorical].astype(str)\n",
    "\n",
    "dv = DictVectorizer()\n",
    "\n",
    "train_dicts = df[categorical].to_dict(orient='records')\n",
    "X_train = dv.fit_transform(train_dicts)\n",
    "\n",
    "print('Matrix dimensionality = ', X_train.shape[1])"
   ]
  },
  {
   "cell_type": "markdown",
   "id": "9cfacecb-1082-4ea5-86a4-d930a1f2bc69",
   "metadata": {},
   "source": [
    "<br>\n",
    "\n",
    "<br>\n",
    "\n",
    "## Q5. Training a model\n",
    "Now let's use the feature matrix from the previous step to train a model.\n",
    "\n",
    "Train a plain linear regression model with default parameters\n",
    "Calculate the RMSE of the model on the training data\n",
    "What's the RMSE on train?"
   ]
  },
  {
   "cell_type": "code",
   "execution_count": 33,
   "id": "a00ca0db-cfed-493e-ae5d-fc1bf31db2a4",
   "metadata": {},
   "outputs": [
    {
     "name": "stdout",
     "output_type": "stream",
     "text": [
      "Plain Linear Regression - RMSE on Train Set =  10.53\n"
     ]
    }
   ],
   "source": [
    "y_train = df['ride_duration'].values\n",
    "\n",
    "lr = LinearRegression()\n",
    "lr.fit(X_train, y_train)\n",
    "\n",
    "y_pred_train = lr.predict(X_train)\n",
    "\n",
    "rmse_train = mean_squared_error(y_train, y_pred_train, squared=False)\n",
    "print(f'Plain Linear Regression - RMSE on Train Set =  {rmse_train:.2f}')"
   ]
  },
  {
   "cell_type": "markdown",
   "id": "f1fb61f7-2d07-4f44-b7fd-76fb96e696e0",
   "metadata": {},
   "source": [
    "<br>\n",
    "\n",
    "<br>\n",
    "\n",
    "## Q6. Evaluating the model\n",
    "Now let's apply this model to the validation dataset (Feb 2021).\n",
    "\n",
    "What's the RMSE on validation?"
   ]
  },
  {
   "cell_type": "code",
   "execution_count": 43,
   "id": "0de830c6-2c9a-43e0-b324-60467e6a6f20",
   "metadata": {},
   "outputs": [],
   "source": [
    "def load_process_val_data(data_address, dv):\n",
    "    \n",
    "    # Load data\n",
    "    df_ = pd.read_parquet(data_address)\n",
    "\n",
    "    # Create target\n",
    "    df_['ride_duration'] = df_.dropOff_datetime - df_.pickup_datetime\n",
    "    df_.ride_duration = df_.ride_duration.apply(lambda x: x.total_seconds() / 60)\n",
    "\n",
    "    # Drop outliers\n",
    "    df_ = df_[(df_.ride_duration >= 1) & (df_.ride_duration<= 60)]\n",
    "    \n",
    "    # One-hot-encoding, missing and vectorizing\n",
    "    df_[['PUlocationID', 'DOlocationID']] = df_[['PUlocationID', 'DOlocationID']].fillna(value = -1)\n",
    "    categorical = ['PUlocationID', 'DOlocationID']\n",
    "    df_[categorical] = df_[categorical].astype(str)   \n",
    "    \n",
    "    val_dicts = df_[categorical].to_dict(orient='records')\n",
    "    X_val = dv.transform(val_dicts)\n",
    "    y_val = df_['ride_duration'].values\n",
    "    \n",
    "    return X_val, y_val, val_dicts"
   ]
  },
  {
   "cell_type": "code",
   "execution_count": 44,
   "id": "568b6a24-c3c8-4990-9fd3-0eece29ee13c",
   "metadata": {},
   "outputs": [
    {
     "name": "stdout",
     "output_type": "stream",
     "text": [
      "Plain Linear Regression - RMSE on Validation Set =  11.01\n"
     ]
    }
   ],
   "source": [
    "X_val, y_val, val_dicts = load_process_val_data('https://nyc-tlc.s3.amazonaws.com/trip+data/fhv_tripdata_2021-02.parquet', dv)\n",
    "y_pred_val = lr.predict(X_val)\n",
    "rmse_val = mean_squared_error(y_val, y_pred_val, squared=False)\n",
    "print(f'Plain Linear Regression - RMSE on Validation Set =  {rmse_val:.2f}')"
   ]
  }
 ],
 "metadata": {
  "kernelspec": {
   "display_name": "Python 3 (ipykernel)",
   "language": "python",
   "name": "python3"
  },
  "language_info": {
   "codemirror_mode": {
    "name": "ipython",
    "version": 3
   },
   "file_extension": ".py",
   "mimetype": "text/x-python",
   "name": "python",
   "nbconvert_exporter": "python",
   "pygments_lexer": "ipython3",
   "version": "3.10.1"
  }
 },
 "nbformat": 4,
 "nbformat_minor": 5
}
